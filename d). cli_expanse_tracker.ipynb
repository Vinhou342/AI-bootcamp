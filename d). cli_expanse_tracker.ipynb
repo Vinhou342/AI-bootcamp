{
 "cells": [
  {
   "cell_type": "markdown",
   "metadata": {
    "id": "EokDBzjoys0K"
   },
   "source": [
    "<p style=\"text-align:center\">\n",
    "    <img src=\"https://media.licdn.com/dms/image/v2/D560BAQGRKQWaOldXvg/company-logo_200_200/company-logo_200_200/0/1723551442229/cambo_ai_logo?e=2147483647&v=beta&t=FrK5k676UJMjoOULl4R3euChg1VvClew28fxNscSd9E\" width=\"80\" alt=\"CamboAI Logo\">\n",
    "</p>\n",
    "\n",
    "# **I. Objectives**"
   ]
  },
  {
   "cell_type": "markdown",
   "metadata": {
    "id": "r7ZMB63mDrwT"
   },
   "source": [
    "Build a command-line app that does the following:\n",
    "\n",
    "1. Add an expense (description + amount)\n",
    "\n",
    "2. View all expenses\n",
    "\n",
    "3. Edit an expense\n",
    "\n",
    "4. Delete an expense\n",
    "\n",
    "5. Exit\n",
    "\n",
    "Use a Python list of dictionaries to store expenses temporarily"
   ]
  },
  {
   "cell_type": "markdown",
   "metadata": {
    "id": "uNn41riED1St"
   },
   "source": [
    "# **Practice Labs**"
   ]
  },
  {
   "cell_type": "code",
   "execution_count": null,
   "metadata": {
    "colab": {
     "base_uri": "https://localhost:8080/"
    },
    "executionInfo": {
     "elapsed": 216051,
     "status": "ok",
     "timestamp": 1752891857356,
     "user": {
      "displayName": "Dina Chanthan",
      "userId": "05214416258381631310"
     },
     "user_tz": -420
    },
    "id": "VCp322Xbz9of",
    "outputId": "b9f403b4-e2a0-4673-f76a-3476c9c30ee6"
   },
   "outputs": [
    {
     "name": "stdout",
     "output_type": "stream",
     "text": [
      "Expense Tracker Menu:\n",
      "1. Add Expense\n",
      "2. View Expenses\n",
      "3. Edit Expense\n",
      "4. Delete Expense\n",
      "5. Exit\n",
      "1\n",
      "Invalid choice! Please select between 1-5.\n",
      "\n",
      "Expense Tracker Menu:\n",
      "1. Add Expense\n",
      "2. View Expenses\n",
      "3. Edit Expense\n",
      "4. Delete Expense\n",
      "5. Exit\n",
      "Invalid choice! Please select between 1-5.\n",
      "\n",
      "Expense Tracker Menu:\n",
      "1. Add Expense\n",
      "2. View Expenses\n",
      "3. Edit Expense\n",
      "4. Delete Expense\n",
      "5. Exit\n",
      "Invalid choice! Please select between 1-5.\n",
      "\n",
      "Expense Tracker Menu:\n",
      "1. Add Expense\n",
      "2. View Expenses\n",
      "3. Edit Expense\n",
      "4. Delete Expense\n",
      "5. Exit\n"
     ]
    }
   ],
   "source": [
    "# Simple Expense Tracker App\n",
    "expenses = []  # List to store expense records\n",
    "\n",
    "# function add expense\n",
    "def add_expense():\n",
    "    description = input(\"Enter expense description: \")\n",
    "    amount = float(input(\"Enter amount: \"))\n",
    "    expenses.append({\"description\": description, \"amount\": amount})\n",
    "    print(\"Expense added successfully!\\n\")\n",
    "\n",
    "# function view expenses\n",
    "def view_expenses():\n",
    "    if not expenses:\n",
    "        print(\"No expenses recorded.\\n\")\n",
    "        return\n",
    "    print(\"\\n--- All Expenses ---\")\n",
    "    for idx, expense in enumerate(expenses, start=1):\n",
    "        print(f\"{idx}. {expense['description']} - ${expense['amount']:.2f}\")\n",
    "    print()\n",
    "\n",
    "# function edit expense\n",
    "def edit_expense():\n",
    "    view_expenses()\n",
    "    if not expenses:\n",
    "        return\n",
    "    idx = int(input(\"Enter the number of the expense to edit: \")) - 1\n",
    "    if 0 <= idx < len(expenses):\n",
    "        new_desc = input(\"Enter new description: \")\n",
    "        new_amount = float(input(\"Enter new amount: \"))\n",
    "        expenses[idx] = {\"description\": new_desc, \"amount\": new_amount}\n",
    "        print(\"Expense updated successfully!\\n\")\n",
    "    else:\n",
    "        print(\"Invalid expense number!\\n\")\n",
    "\n",
    "# function delete expense\n",
    "def delete_expense():\n",
    "    view_expenses()\n",
    "    if not expenses:\n",
    "        return\n",
    "    idx = int(input(\"Enter the number of the expense to delete: \")) - 1\n",
    "    if 0 <= idx < len(expenses):\n",
    "        deleted = expenses.pop(idx)\n",
    "        print(f\"Deleted: {deleted['description']} - ${deleted['amount']:.2f}\\n\")\n",
    "    else:\n",
    "        print(\"Invalid expense number!\\n\")\n",
    "\n",
    "# main function to controll all functions\n",
    "def main():\n",
    "    while True:\n",
    "        print(\"Expense Tracker Menu:\")\n",
    "        print(\"1. Add Expense\")\n",
    "        print(\"2. View Expenses\")\n",
    "        print(\"3. Edit Expense\")\n",
    "        print(\"4. Delete Expense\")\n",
    "        print(\"5. Exit\")\n",
    "        choice = input(\"Choose an option (1-5): \")\n",
    "\n",
    "        if choice == \"1\":\n",
    "            add_expense()\n",
    "        elif choice == \"2\":\n",
    "            view_expenses()\n",
    "        elif choice == \"3\":\n",
    "            edit_expense()\n",
    "        elif choice == \"4\":\n",
    "            delete_expense()\n",
    "        elif choice == \"5\":\n",
    "            print(\"Goodbye!\")\n",
    "            break\n",
    "        else:\n",
    "            print(\"Invalid choice! Please select between 1-5.\\n\")\n",
    "\n",
    "# Start the app\n",
    "main()"
   ]
  },
  {
   "cell_type": "markdown",
   "metadata": {
    "id": "_yUeCpRWDfHb"
   },
   "source": [
    "# Thank you for completing this lab!\n",
    "\n",
    "This notebook was created by [Chanthan DINA](https://www.linkedin.com/in/chanthandina/). I hope you found this lab interesting and educational. Feel free to contact me if you have any questions!"
   ]
  },
  {
   "cell_type": "markdown",
   "metadata": {
    "id": "1vCllpzlDjtL"
   },
   "source": [
    "## <h3 align=\"center\"> &#169; CamboAI. All rights reserved. <h3/>"
   ]
  }
 ],
 "metadata": {
  "colab": {
   "authorship_tag": "ABX9TyMdT3RBQRVkQHmHpJgExFHy",
   "collapsed_sections": [
    "EokDBzjoys0K",
    "uNn41riED1St"
   ],
   "provenance": []
  },
  "kernelspec": {
   "display_name": "Python 3",
   "name": "python3"
  },
  "language_info": {
   "codemirror_mode": {
    "name": "ipython",
    "version": 3
   },
   "file_extension": ".py",
   "mimetype": "text/x-python",
   "name": "python",
   "nbconvert_exporter": "python",
   "pygments_lexer": "ipython3",
   "version": "3.13.1"
  }
 },
 "nbformat": 4,
 "nbformat_minor": 0
}
