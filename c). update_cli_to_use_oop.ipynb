{
 "cells": [
  {
   "cell_type": "markdown",
   "metadata": {
    "id": "EokDBzjoys0K"
   },
   "source": [
    "<p style=\"text-align:center\">\n",
    "    <img src=\"https://media.licdn.com/dms/image/v2/D560BAQGRKQWaOldXvg/company-logo_200_200/company-logo_200_200/0/1723551442229/cambo_ai_logo?e=2147483647&v=beta&t=FrK5k676UJMjoOULl4R3euChg1VvClew28fxNscSd9E\" width=\"80\" alt=\"CamboAI Logo\">\n",
    "</p>\n",
    "\n",
    "# **I. Objectives**"
   ]
  },
  {
   "cell_type": "markdown",
   "metadata": {
    "id": "9G90nEqfE8rs"
   },
   "source": [
    "Replace procedural logic with class-based logic (e.g., my_budget.add_expense())"
   ]
  },
  {
   "cell_type": "markdown",
   "metadata": {
    "id": "7td1WQ07E_0C"
   },
   "source": [
    "# **Practice Labs**"
   ]
  },
  {
   "cell_type": "code",
   "execution_count": 1,
   "metadata": {
    "colab": {
     "base_uri": "https://localhost:8080/"
    },
    "executionInfo": {
     "elapsed": 3206,
     "status": "ok",
     "timestamp": 1752725986274,
     "user": {
      "displayName": "Dina Chanthan",
      "userId": "05214416258381631310"
     },
     "user_tz": -420
    },
    "id": "VCp322Xbz9of",
    "outputId": "5f9bc9f2-a54b-4dd5-ef9f-5bdcc48dd5d3"
   },
   "outputs": [
    {
     "name": "stdout",
     "output_type": "stream",
     "text": [
      "Expense Tracker Menu:\n",
      "1. Add Expense\n",
      "2. View Expenses\n",
      "3. Edit Expense\n",
      "4. Delete Expense\n",
      "5. Save Expenses to CSV\n",
      "6. Load Expenses from CSV\n",
      "7. Exit\n",
      "Expense added successfully!\n",
      "\n",
      "Expense Tracker Menu:\n",
      "1. Add Expense\n",
      "2. View Expenses\n",
      "3. Edit Expense\n",
      "4. Delete Expense\n",
      "5. Save Expenses to CSV\n",
      "6. Load Expenses from CSV\n",
      "7. Exit\n",
      "\n",
      "--- All Expenses ---\n",
      "1. 2025 07 19 | Matcha | $2.00\n",
      "\n",
      "Expense Tracker Menu:\n",
      "1. Add Expense\n",
      "2. View Expenses\n",
      "3. Edit Expense\n",
      "4. Delete Expense\n",
      "5. Save Expenses to CSV\n",
      "6. Load Expenses from CSV\n",
      "7. Exit\n",
      "\n",
      "--- All Expenses ---\n",
      "1. 2025 07 19 | Matcha | $2.00\n",
      "\n",
      "Expense updated successfully!\n",
      "\n",
      "Expense Tracker Menu:\n",
      "1. Add Expense\n",
      "2. View Expenses\n",
      "3. Edit Expense\n",
      "4. Delete Expense\n",
      "5. Save Expenses to CSV\n",
      "6. Load Expenses from CSV\n",
      "7. Exit\n",
      "Goodbye!\n"
     ]
    }
   ],
   "source": [
    "import csv\n",
    "\n",
    "class ExpenseTracker:\n",
    "    def __init__(self):\n",
    "        self.expenses = []\n",
    "\n",
    "    def add_expense(self):\n",
    "        date = input(\"Enter date (YYYY-MM-DD): \")\n",
    "        description = input(\"Enter expense description: \")\n",
    "        try:\n",
    "            amount = float(input(\"Enter amount: \"))\n",
    "        except ValueError:\n",
    "            print(\"Invalid amount! Expense not added.\\n\")\n",
    "            return\n",
    "        self.expenses.append({\"date\": date, \"description\": description, \"amount\": amount})\n",
    "        print(\"Expense added successfully!\\n\")\n",
    "\n",
    "    def view_expenses(self):\n",
    "        if not self.expenses:\n",
    "            print(\"No expenses recorded.\\n\")\n",
    "            return\n",
    "        print(\"\\n--- All Expenses ---\")\n",
    "        for idx, expense in enumerate(self.expenses, start=1):\n",
    "            print(f\"{idx}. {expense['date']} | {expense['description']} | ${expense['amount']:.2f}\")\n",
    "        print()\n",
    "\n",
    "    def edit_expense(self):\n",
    "        self.view_expenses()\n",
    "        if not self.expenses:\n",
    "            return\n",
    "        try:\n",
    "            idx = int(input(\"Enter the number of the expense to edit: \")) - 1\n",
    "            if 0 <= idx < len(self.expenses):\n",
    "                date = input(\"Enter new date (YYYY-MM-DD): \")\n",
    "                description = input(\"Enter new description: \")\n",
    "                amount = float(input(\"Enter new amount: \"))\n",
    "                self.expenses[idx] = {\"date\": date, \"description\": description, \"amount\": amount}\n",
    "                print(\"Expense updated successfully!\\n\")\n",
    "            else:\n",
    "                print(\"Invalid expense number!\\n\")\n",
    "        except ValueError:\n",
    "            print(\"Invalid input!\\n\")\n",
    "\n",
    "    def delete_expense(self):\n",
    "        self.view_expenses()\n",
    "        if not self.expenses:\n",
    "            return\n",
    "        try:\n",
    "            idx = int(input(\"Enter the number of the expense to delete: \")) - 1\n",
    "            if 0 <= idx < len(self.expenses):\n",
    "                deleted = self.expenses.pop(idx)\n",
    "                print(f\"Deleted: {deleted['date']} | {deleted['description']} | ${deleted['amount']:.2f}\\n\")\n",
    "            else:\n",
    "                print(\"Invalid expense number!\\n\")\n",
    "        except ValueError:\n",
    "            print(\"Invalid input!\\n\")\n",
    "\n",
    "    def save_to_csv(self):\n",
    "        filename = input(\"Enter filename to save (e.g., expenses.csv): \")\n",
    "        try:\n",
    "            with open(filename, mode='w', newline='') as file:\n",
    "                writer = csv.DictWriter(file, fieldnames=[\"date\", \"description\", \"amount\"])\n",
    "                writer.writeheader()\n",
    "                for expense in self.expenses:\n",
    "                    writer.writerow(expense)\n",
    "            print(f\"Expenses saved to '{filename}' successfully!\\n\")\n",
    "        except Exception as e:\n",
    "            print(f\"Error saving file: {e}\\n\")\n",
    "\n",
    "    def load_from_csv(self):\n",
    "        filename = input(\"Enter filename to load (e.g., expenses.csv): \")\n",
    "        try:\n",
    "            with open(filename, mode='r', newline='') as file:\n",
    "                reader = csv.DictReader(file)\n",
    "                self.expenses.clear()\n",
    "                for row in reader:\n",
    "                    self.expenses.append({\n",
    "                        \"date\": row[\"date\"],\n",
    "                        \"description\": row[\"description\"],\n",
    "                        \"amount\": float(row[\"amount\"])\n",
    "                    })\n",
    "            print(f\"Expenses loaded from '{filename}' successfully!\\n\")\n",
    "        except FileNotFoundError:\n",
    "            print(\"File not found!\\n\")\n",
    "        except Exception as e:\n",
    "            print(f\"Error loading file: {e}\\n\")\n",
    "\n",
    "\n",
    "def main():\n",
    "    tracker = ExpenseTracker()\n",
    "    while True:\n",
    "        print(\"Expense Tracker Menu:\")\n",
    "        print(\"1. Add Expense\")\n",
    "        print(\"2. View Expenses\")\n",
    "        print(\"3. Edit Expense\")\n",
    "        print(\"4. Delete Expense\")\n",
    "        print(\"5. Save Expenses to CSV\")\n",
    "        print(\"6. Load Expenses from CSV\")\n",
    "        print(\"7. Exit\")\n",
    "        choice = input(\"Choose an option (1-7): \")\n",
    "\n",
    "        if choice == \"1\":\n",
    "            tracker.add_expense()\n",
    "        elif choice == \"2\":\n",
    "            tracker.view_expenses()\n",
    "        elif choice == \"3\":\n",
    "            tracker.edit_expense()\n",
    "        elif choice == \"4\":\n",
    "            tracker.delete_expense()\n",
    "        elif choice == \"5\":\n",
    "            tracker.save_to_csv()\n",
    "        elif choice == \"6\":\n",
    "            tracker.load_from_csv()\n",
    "        elif choice == \"7\":\n",
    "            print(\"Goodbye!\")\n",
    "            break\n",
    "        else:\n",
    "            print(\"Invalid choice! Please select between 1-7.\\n\")\n",
    "\n",
    "\n",
    "if __name__ == \"__main__\":\n",
    "    main()"
   ]
  },
  {
   "cell_type": "markdown",
   "metadata": {
    "id": "CNbWGyIsFB3r"
   },
   "source": [
    "# Thank you for completing this lab!\n",
    "\n",
    "This notebook was created by [Chanthan DINA](https://www.linkedin.com/in/chanthandina/). I hope you found this lab interesting and educational. Feel free to contact me if you have any questions!"
   ]
  },
  {
   "cell_type": "markdown",
   "metadata": {
    "id": "HorceRK5FEDG"
   },
   "source": [
    "## <h3 align=\"center\"> &#169; CamboAI. All rights reserved. <h3/>"
   ]
  }
 ],
 "metadata": {
  "colab": {
   "authorship_tag": "ABX9TyP+BQaw8RXWifVWx0l8KXO1",
   "collapsed_sections": [
    "EokDBzjoys0K",
    "7td1WQ07E_0C"
   ],
   "provenance": []
  },
  "kernelspec": {
   "display_name": "Python 3",
   "name": "python3"
  },
  "language_info": {
   "codemirror_mode": {
    "name": "ipython",
    "version": 3
   },
   "file_extension": ".py",
   "mimetype": "text/x-python",
   "name": "python",
   "nbconvert_exporter": "python",
   "pygments_lexer": "ipython3",
   "version": "3.13.1"
  }
 },
 "nbformat": 4,
 "nbformat_minor": 0
}
